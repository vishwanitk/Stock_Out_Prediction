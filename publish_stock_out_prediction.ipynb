{
 "cells": [
  {
   "cell_type": "code",
   "execution_count": 4,
   "id": "05b3d351-5ea9-425f-a746-e1663bf2d964",
   "metadata": {},
   "outputs": [],
   "source": [
    "#Import the libraries\n",
    "\n",
    "import pandas as pd\n",
    "import numpy as np"
   ]
  },
  {
   "cell_type": "code",
   "execution_count": 20,
   "id": "2d090051-517f-49d1-b650-677a624360a4",
   "metadata": {},
   "outputs": [],
   "source": [
    "#step 1: Import the data\n",
    "df = pd.read_excel('data_base_prediction.xlsx', parse_dates=['Invoice Date'])\n"
   ]
  },
  {
   "cell_type": "code",
   "execution_count": 12,
   "id": "2ed337ed-d9cc-4b8b-87a8-8661a8fd3d29",
   "metadata": {},
   "outputs": [
    {
     "data": {
      "text/html": [
       "<div>\n",
       "<style scoped>\n",
       "    .dataframe tbody tr th:only-of-type {\n",
       "        vertical-align: middle;\n",
       "    }\n",
       "\n",
       "    .dataframe tbody tr th {\n",
       "        vertical-align: top;\n",
       "    }\n",
       "\n",
       "    .dataframe thead th {\n",
       "        text-align: right;\n",
       "    }\n",
       "</style>\n",
       "<table border=\"1\" class=\"dataframe\">\n",
       "  <thead>\n",
       "    <tr style=\"text-align: right;\">\n",
       "      <th></th>\n",
       "      <th>Invoice Date</th>\n",
       "      <th>Item Code</th>\n",
       "      <th>QTY</th>\n",
       "    </tr>\n",
       "  </thead>\n",
       "  <tbody>\n",
       "    <tr>\n",
       "      <th>0</th>\n",
       "      <td>2024-12-31</td>\n",
       "      <td>155108e1</td>\n",
       "      <td>1</td>\n",
       "    </tr>\n",
       "    <tr>\n",
       "      <th>1</th>\n",
       "      <td>2024-12-31</td>\n",
       "      <td>7fdf96c6</td>\n",
       "      <td>1</td>\n",
       "    </tr>\n",
       "    <tr>\n",
       "      <th>2</th>\n",
       "      <td>2024-12-31</td>\n",
       "      <td>4c201ddc</td>\n",
       "      <td>3</td>\n",
       "    </tr>\n",
       "    <tr>\n",
       "      <th>3</th>\n",
       "      <td>2024-12-31</td>\n",
       "      <td>c23dc657</td>\n",
       "      <td>1</td>\n",
       "    </tr>\n",
       "    <tr>\n",
       "      <th>4</th>\n",
       "      <td>2024-12-31</td>\n",
       "      <td>dc08c95c</td>\n",
       "      <td>8</td>\n",
       "    </tr>\n",
       "  </tbody>\n",
       "</table>\n",
       "</div>"
      ],
      "text/plain": [
       "  Invoice Date Item Code  QTY\n",
       "0   2024-12-31  155108e1    1\n",
       "1   2024-12-31  7fdf96c6    1\n",
       "2   2024-12-31  4c201ddc    3\n",
       "3   2024-12-31  c23dc657    1\n",
       "4   2024-12-31  dc08c95c    8"
      ]
     },
     "execution_count": 12,
     "metadata": {},
     "output_type": "execute_result"
    }
   ],
   "source": [
    "df.head()"
   ]
  },
  {
   "cell_type": "code",
   "execution_count": 14,
   "id": "41300d2a-6b87-463a-ad9e-4ce869d1814c",
   "metadata": {},
   "outputs": [
    {
     "name": "stdout",
     "output_type": "stream",
     "text": [
      "<class 'pandas.core.frame.DataFrame'>\n",
      "RangeIndex: 974970 entries, 0 to 974969\n",
      "Data columns (total 3 columns):\n",
      " #   Column        Non-Null Count   Dtype         \n",
      "---  ------        --------------   -----         \n",
      " 0   Invoice Date  974970 non-null  datetime64[ns]\n",
      " 1   Item Code     974970 non-null  object        \n",
      " 2   QTY           974970 non-null  int64         \n",
      "dtypes: datetime64[ns](1), int64(1), object(1)\n",
      "memory usage: 22.3+ MB\n"
     ]
    }
   ],
   "source": [
    "df.info()"
   ]
  },
  {
   "cell_type": "code",
   "execution_count": 22,
   "id": "e8aa930a-914f-4a4b-8a06-ffdd9b42f53b",
   "metadata": {},
   "outputs": [],
   "source": [
    "#step 2: creatinf the month colum inreference to the Invoice data, here all the date stamps in a month \\n\n",
    "# will have one datestamp value in month colum and that will be first of that perticular month\n",
    "\n",
    "df['month'] = df['Invoice Date'].dt.to_period('M').dt.to_timestamp()"
   ]
  },
  {
   "cell_type": "code",
   "execution_count": 24,
   "id": "7380a72b-be10-46c2-b3ac-f39d2765433e",
   "metadata": {},
   "outputs": [
    {
     "data": {
      "text/html": [
       "<div>\n",
       "<style scoped>\n",
       "    .dataframe tbody tr th:only-of-type {\n",
       "        vertical-align: middle;\n",
       "    }\n",
       "\n",
       "    .dataframe tbody tr th {\n",
       "        vertical-align: top;\n",
       "    }\n",
       "\n",
       "    .dataframe thead th {\n",
       "        text-align: right;\n",
       "    }\n",
       "</style>\n",
       "<table border=\"1\" class=\"dataframe\">\n",
       "  <thead>\n",
       "    <tr style=\"text-align: right;\">\n",
       "      <th></th>\n",
       "      <th>Invoice Date</th>\n",
       "      <th>Item Code</th>\n",
       "      <th>QTY</th>\n",
       "      <th>month</th>\n",
       "    </tr>\n",
       "  </thead>\n",
       "  <tbody>\n",
       "    <tr>\n",
       "      <th>0</th>\n",
       "      <td>2024-12-31</td>\n",
       "      <td>155108e1</td>\n",
       "      <td>1</td>\n",
       "      <td>2024-12-01</td>\n",
       "    </tr>\n",
       "    <tr>\n",
       "      <th>1</th>\n",
       "      <td>2024-12-31</td>\n",
       "      <td>7fdf96c6</td>\n",
       "      <td>1</td>\n",
       "      <td>2024-12-01</td>\n",
       "    </tr>\n",
       "    <tr>\n",
       "      <th>2</th>\n",
       "      <td>2024-12-31</td>\n",
       "      <td>4c201ddc</td>\n",
       "      <td>3</td>\n",
       "      <td>2024-12-01</td>\n",
       "    </tr>\n",
       "    <tr>\n",
       "      <th>3</th>\n",
       "      <td>2024-12-31</td>\n",
       "      <td>c23dc657</td>\n",
       "      <td>1</td>\n",
       "      <td>2024-12-01</td>\n",
       "    </tr>\n",
       "    <tr>\n",
       "      <th>4</th>\n",
       "      <td>2024-12-31</td>\n",
       "      <td>dc08c95c</td>\n",
       "      <td>8</td>\n",
       "      <td>2024-12-01</td>\n",
       "    </tr>\n",
       "  </tbody>\n",
       "</table>\n",
       "</div>"
      ],
      "text/plain": [
       "  Invoice Date Item Code  QTY      month\n",
       "0   2024-12-31  155108e1    1 2024-12-01\n",
       "1   2024-12-31  7fdf96c6    1 2024-12-01\n",
       "2   2024-12-31  4c201ddc    3 2024-12-01\n",
       "3   2024-12-31  c23dc657    1 2024-12-01\n",
       "4   2024-12-31  dc08c95c    8 2024-12-01"
      ]
     },
     "execution_count": 24,
     "metadata": {},
     "output_type": "execute_result"
    }
   ],
   "source": [
    "df.head()"
   ]
  },
  {
   "cell_type": "code",
   "execution_count": 29,
   "id": "9dd20b84-dc44-462e-8528-83203e8c0a52",
   "metadata": {},
   "outputs": [],
   "source": [
    "# Step 3: Aggregate monthly consumption per SKU\n",
    "monthly_df = (df.groupby(['Item Code','month'])['QTY'].sum().reset_index())\n",
    "\n"
   ]
  },
  {
   "cell_type": "code",
   "execution_count": 31,
   "id": "0c63520c-728c-48f9-9ab3-14904941706d",
   "metadata": {},
   "outputs": [
    {
     "data": {
      "text/html": [
       "<div>\n",
       "<style scoped>\n",
       "    .dataframe tbody tr th:only-of-type {\n",
       "        vertical-align: middle;\n",
       "    }\n",
       "\n",
       "    .dataframe tbody tr th {\n",
       "        vertical-align: top;\n",
       "    }\n",
       "\n",
       "    .dataframe thead th {\n",
       "        text-align: right;\n",
       "    }\n",
       "</style>\n",
       "<table border=\"1\" class=\"dataframe\">\n",
       "  <thead>\n",
       "    <tr style=\"text-align: right;\">\n",
       "      <th></th>\n",
       "      <th>Item Code</th>\n",
       "      <th>month</th>\n",
       "      <th>QTY</th>\n",
       "    </tr>\n",
       "  </thead>\n",
       "  <tbody>\n",
       "    <tr>\n",
       "      <th>0</th>\n",
       "      <td>001343f3</td>\n",
       "      <td>2024-01-01</td>\n",
       "      <td>155</td>\n",
       "    </tr>\n",
       "    <tr>\n",
       "      <th>1</th>\n",
       "      <td>001343f3</td>\n",
       "      <td>2024-02-01</td>\n",
       "      <td>120</td>\n",
       "    </tr>\n",
       "    <tr>\n",
       "      <th>2</th>\n",
       "      <td>001343f3</td>\n",
       "      <td>2024-03-01</td>\n",
       "      <td>211</td>\n",
       "    </tr>\n",
       "    <tr>\n",
       "      <th>3</th>\n",
       "      <td>001343f3</td>\n",
       "      <td>2024-04-01</td>\n",
       "      <td>10</td>\n",
       "    </tr>\n",
       "    <tr>\n",
       "      <th>4</th>\n",
       "      <td>001343f3</td>\n",
       "      <td>2024-05-01</td>\n",
       "      <td>20</td>\n",
       "    </tr>\n",
       "  </tbody>\n",
       "</table>\n",
       "</div>"
      ],
      "text/plain": [
       "  Item Code      month  QTY\n",
       "0  001343f3 2024-01-01  155\n",
       "1  001343f3 2024-02-01  120\n",
       "2  001343f3 2024-03-01  211\n",
       "3  001343f3 2024-04-01   10\n",
       "4  001343f3 2024-05-01   20"
      ]
     },
     "execution_count": 31,
     "metadata": {},
     "output_type": "execute_result"
    }
   ],
   "source": [
    "monthly_df.head()"
   ]
  },
  {
   "cell_type": "code",
   "execution_count": 33,
   "id": "1aa38123-7575-4603-b209-9cc9d61b9a8b",
   "metadata": {},
   "outputs": [],
   "source": [
    "# Step 4: Compute z-scores by item\n",
    "def compute_z_score(group):\n",
    "    group = group.sort_values('month')\n",
    "    recent_month = group['month'].max()\n",
    "    historical = group[group['month'] < recent_month]\n",
    "    recent = group[group['month'] == recent_month]\n",
    "\n",
    "    if historical.shape[0] < 4:\n",
    "        return pd.DataFrame({\n",
    "            'Item Code': [group['Item Code'].iloc[0]],\n",
    "            #'Item Name': [group['Item Name'].iloc[0]],\n",
    "            'z_score': [np.nan],\n",
    "            'status': ['Insufficient history']\n",
    "        })\n",
    "    \n",
    "    mean = historical['QTY'].mean()\n",
    "    std = historical['QTY'].std()\n",
    "    recent_qty = recent['QTY'].values[0]\n",
    "    \n",
    "    if std == 0:\n",
    "        z = 0\n",
    "    else:\n",
    "        z = (recent_qty - mean) / std\n",
    "\n",
    "    # Determine status\n",
    "    if z > 2:\n",
    "        status = \"Unexpected spike\"\n",
    "    elif z > 1.5:\n",
    "        status = \"Monitor the consumption\"\n",
    "    #elif z<0 and z>-2:\n",
    "      #  status= \"Reduction in consumption\"\n",
    "    elif z< -2:\n",
    "        status= \"Unexpected Consumption Reduced\" \n",
    "    else:\n",
    "        status = \"Within expected range\"\n",
    "\n",
    "    return pd.DataFrame({\n",
    "        'Item Code': [group['Item Code'].iloc[0]],\n",
    "        #'Item Name': [group['Item Name'].iloc[0]],\n",
    "        'z_score': [round(z, 2)],\n",
    "        'status': [status]\n",
    "    })\n"
   ]
  },
  {
   "cell_type": "code",
   "execution_count": 37,
   "id": "dfb9be33-83de-4688-b09a-29f2cf85a57c",
   "metadata": {},
   "outputs": [
    {
     "name": "stderr",
     "output_type": "stream",
     "text": [
      "/var/folders/v6/b6p52t217dl0zncsqc790k4m0000gn/T/ipykernel_83871/665484434.py:2: DeprecationWarning: DataFrameGroupBy.apply operated on the grouping columns. This behavior is deprecated, and in a future version of pandas the grouping columns will be excluded from the operation. Either pass `include_groups=False` to exclude the groupings or explicitly select the grouping columns after groupby to silence this warning.\n",
      "  result_df = (monthly_df.groupby(['Item Code']).apply(compute_z_score).reset_index(drop=True))\n"
     ]
    }
   ],
   "source": [
    "# Step 5: Apply z-score logic per item to entire data frame\n",
    "result_df = (monthly_df.groupby(['Item Code']).apply(compute_z_score).reset_index(drop=True))"
   ]
  },
  {
   "cell_type": "code",
   "execution_count": 39,
   "id": "ba46249c-595e-4560-bfdc-1e220c3a045d",
   "metadata": {},
   "outputs": [
    {
     "data": {
      "text/html": [
       "<div>\n",
       "<style scoped>\n",
       "    .dataframe tbody tr th:only-of-type {\n",
       "        vertical-align: middle;\n",
       "    }\n",
       "\n",
       "    .dataframe tbody tr th {\n",
       "        vertical-align: top;\n",
       "    }\n",
       "\n",
       "    .dataframe thead th {\n",
       "        text-align: right;\n",
       "    }\n",
       "</style>\n",
       "<table border=\"1\" class=\"dataframe\">\n",
       "  <thead>\n",
       "    <tr style=\"text-align: right;\">\n",
       "      <th></th>\n",
       "      <th>Item Code</th>\n",
       "      <th>z_score</th>\n",
       "      <th>status</th>\n",
       "    </tr>\n",
       "  </thead>\n",
       "  <tbody>\n",
       "    <tr>\n",
       "      <th>0</th>\n",
       "      <td>001343f3</td>\n",
       "      <td>0.25</td>\n",
       "      <td>Within expected range</td>\n",
       "    </tr>\n",
       "    <tr>\n",
       "      <th>1</th>\n",
       "      <td>00225dd5</td>\n",
       "      <td>NaN</td>\n",
       "      <td>Insufficient history</td>\n",
       "    </tr>\n",
       "    <tr>\n",
       "      <th>2</th>\n",
       "      <td>002c3dfa</td>\n",
       "      <td>NaN</td>\n",
       "      <td>Insufficient history</td>\n",
       "    </tr>\n",
       "    <tr>\n",
       "      <th>3</th>\n",
       "      <td>00360ad5</td>\n",
       "      <td>-1.52</td>\n",
       "      <td>Within expected range</td>\n",
       "    </tr>\n",
       "    <tr>\n",
       "      <th>4</th>\n",
       "      <td>004ae629</td>\n",
       "      <td>NaN</td>\n",
       "      <td>Insufficient history</td>\n",
       "    </tr>\n",
       "  </tbody>\n",
       "</table>\n",
       "</div>"
      ],
      "text/plain": [
       "  Item Code  z_score                 status\n",
       "0  001343f3     0.25  Within expected range\n",
       "1  00225dd5      NaN   Insufficient history\n",
       "2  002c3dfa      NaN   Insufficient history\n",
       "3  00360ad5    -1.52  Within expected range\n",
       "4  004ae629      NaN   Insufficient history"
      ]
     },
     "execution_count": 39,
     "metadata": {},
     "output_type": "execute_result"
    }
   ],
   "source": [
    "result_df.head()"
   ]
  },
  {
   "cell_type": "code",
   "execution_count": 45,
   "id": "a50d224f-5c34-4e9f-982d-9a8823c8a0c9",
   "metadata": {},
   "outputs": [
    {
     "data": {
      "image/png": "[encoded data removed]",
      "text/plain": [
       "<Figure size 800x800 with 1 Axes>"
      ]
     },
     "metadata": {},
     "output_type": "display_data"
    }
   ],
   "source": [
    "#step 6: Visualization of the stock distribution\n",
    "\n",
    "import matplotlib.pyplot as plt\n",
    "\n",
    "# Count the frequency of each unique status\n",
    "status_counts = result_df['status'].value_counts()\n",
    "\n",
    "# Create a pie chart\n",
    "plt.figure(figsize=(8, 8))  # Optional: size of the figure\n",
    "plt.pie(status_counts, labels=status_counts.index, autopct='%1.1f%%', startangle=150)\n",
    "\n",
    "# Add a title\n",
    "plt.title('Distribution of Stock Status')\n",
    "\n",
    "# Make it a circle (equal aspect ratio)\n",
    "plt.axis('equal')\n",
    "\n",
    "# Show the plot\n",
    "plt.show()"
   ]
  },
  {
   "cell_type": "code",
   "execution_count": 43,
   "id": "ce081eb6-da0e-46c6-95fb-1948b50f81e1",
   "metadata": {},
   "outputs": [],
   "source": [
    "result_df.to_excel('prediction_results_final.xlsx')"
   ]
  },
  {
   "cell_type": "code",
   "execution_count": null,
   "id": "9e649796-7e08-4e5d-ab3c-70fefca90217",
   "metadata": {},
   "outputs": [],
   "source": []
  }
 ],
 "metadata": {
  "kernelspec": {
   "display_name": "Python [conda env:base] *",
   "language": "python",
   "name": "conda-base-py"
  },
  "language_info": {
   "codemirror_mode": {
    "name": "ipython",
    "version": 3
   },
   "file_extension": ".py",
   "mimetype": "text/x-python",
   "name": "python",
   "nbconvert_exporter": "python",
   "pygments_lexer": "ipython3",
   "version": "3.12.7"
  }
 },
 "nbformat": 4,
 "nbformat_minor": 5
}
